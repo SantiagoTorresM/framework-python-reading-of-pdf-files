{
 "cells": [
  {
   "cell_type": "code",
   "execution_count": 3,
   "metadata": {
    "ExecuteTime": {
     "end_time": "2018-07-08T17:50:33.621144Z",
     "start_time": "2018-07-08T17:50:33.613768Z"
    }
   },
   "outputs": [],
   "source": [
    "import time\n",
    "start = time.time()\n",
    "import os\n",
    "import slate3k\n",
    "\n",
    "import numpy as np\n",
    "import pandas as pd\n",
    "\n",
    "#datetime \n",
    "from datetime import datetime\n",
    "\n",
    "\n",
    "\n",
    "import sys\n",
    "sys.path.append(\"../..\")"
   ]
  },
  {
   "cell_type": "markdown",
   "metadata": {},
   "source": [
    "# Data Inputs"
   ]
  },
  {
   "cell_type": "code",
   "execution_count": 4,
   "metadata": {
    "ExecuteTime": {
     "end_time": "2018-07-08T17:50:33.923491Z",
     "start_time": "2018-07-08T17:50:33.918437Z"
    }
   },
   "outputs": [],
   "source": [
    "# directory where the data are stored\n",
    "data_dir = \"/data/\"\n",
    "\n",
    "mydir = os.getcwd() + data_dir # This gives us the path from where the python file is executed\n",
    "files = os.listdir(mydir) #these are the differents pdf files\n",
    "\n",
    "nb_files = len(files)"
   ]
  },
  {
   "cell_type": "markdown",
   "metadata": {},
   "source": [
    "# Read PDF"
   ]
  },
  {
   "cell_type": "markdown",
   "metadata": {},
   "source": [
    "Here, the library let's read the files."
   ]
  },
  {
   "cell_type": "code",
   "execution_count": 5,
   "metadata": {
    "ExecuteTime": {
     "end_time": "2018-07-08T17:50:34.895339Z",
     "start_time": "2018-07-08T17:50:34.790547Z"
    }
   },
   "outputs": [],
   "source": [
    "start = time.time()\n",
    "#let's set up a dataframe to store each row of the excel file\n",
    "\n",
    "#read the excel into pandas \n",
    "df = pd.read_excel('template.xlsx')\n",
    "\n",
    "#we need to adjust the excel sheet to be adapted to the data we have in the PDF\n",
    "df = df.drop('zero_eighteen', axis = 1)\n",
    "df = df.drop('sixty_four', axis = 1)\n",
    "df.rename(columns={'nineteen_twenty':'zero_twenty'}, inplace=True)\n",
    "df.rename(columns={'sixty_five_plus':'sixty_four_plus'}, inplace=True)\n"
   ]
  },
  {
   "cell_type": "code",
   "execution_count": 6,
   "metadata": {
    "ExecuteTime": {
     "end_time": "2018-07-08T17:50:59.996210Z",
     "start_time": "2018-07-08T17:50:35.396946Z"
    },
    "scrolled": true
   },
   "outputs": [],
   "source": [
    "count_ok = 0\n",
    "count_not_ok = 0\n",
    "for file in files:\n",
    "    with open(file, 'rb') as f:\n",
    "        #open each doc\n",
    "        doc = slate3k.PDF(f)\n",
    "        nb_pages = len(doc)\n",
    "        for n in range(nb_pages):\n",
    "            try:\n",
    "                #here we gather the data at the columns of the excel\n",
    "                meta_doc = doc[n].split('\\n')\n",
    "                start_date = meta_doc[0].split(':')[1].split('-')[0][1:-1]\n",
    "                end_date = meta_doc[0].split(':')[1].split('-')[1][1:-1]\n",
    "                product_name = meta_doc[14]\n",
    "                state = meta_doc[2][:2]\n",
    "                group_rating_areas = meta_doc[6][4:6]\n",
    "                \n",
    "                #here we gather the columns corresponding to the different ages\n",
    "                list_rate = list()\n",
    "                for i in range(1,4):\n",
    "                    elem = doc[n].split('Age')[i].split('Rate')[1].split('\\n')[1:-2]\n",
    "                    list_rate.extend(elem)\n",
    "                row_excel = [start_date, end_date, product_name, state, group_rating_areas] + list_rate\n",
    "                df.loc[len(df)] = row_excel\n",
    "                count_ok +=1\n",
    "            except : \n",
    "                count_not_ok +=1\n",
    "\n",
    "writer = pd.ExcelWriter('output.xlsx')\n",
    "df.to_excel(writer,'Sheet1')\n",
    "writer.save()\n",
    "\n",
    " "
   ]
  },
  {
   "cell_type": "code",
   "execution_count": 7,
   "metadata": {
    "ExecuteTime": {
     "end_time": "2018-07-08T17:51:00.112683Z",
     "start_time": "2018-07-08T17:51:00.104318Z"
    }
   },
   "outputs": [
    {
     "name": "stdout",
     "output_type": "stream",
     "text": [
      "288  sheets are done.\n",
      "72  sheets are not done.\n",
      "It took 25 seconds to run the code.\n"
     ]
    }
   ],
   "source": [
    "end = time.time()\n",
    "\n",
    "print(count_ok, ' sheets are done.')       \n",
    "print(count_not_ok, ' sheets are not done.')\n",
    "\n",
    "print('It took', round(end-start), 'seconds to run the code.')"
   ]
  },
  {
   "cell_type": "code",
   "execution_count": null,
   "metadata": {},
   "outputs": [],
   "source": []
  }
 ],
 "metadata": {
  "kernelspec": {
   "display_name": "Python 3",
   "language": "python",
   "name": "python3"
  },
  "language_info": {
   "codemirror_mode": {
    "name": "ipython",
    "version": 3
   },
   "file_extension": ".py",
   "mimetype": "text/x-python",
   "name": "python",
   "nbconvert_exporter": "python",
   "pygments_lexer": "ipython3",
   "version": "3.6.3"
  },
  "toc": {
   "nav_menu": {},
   "number_sections": true,
   "sideBar": true,
   "skip_h1_title": false,
   "title_cell": "Table of Contents",
   "title_sidebar": "Contents",
   "toc_cell": false,
   "toc_position": {},
   "toc_section_display": true,
   "toc_window_display": false
  },
  "varInspector": {
   "cols": {
    "lenName": 16,
    "lenType": 16,
    "lenVar": 40
   },
   "kernels_config": {
    "python": {
     "delete_cmd_postfix": "",
     "delete_cmd_prefix": "del ",
     "library": "var_list.py",
     "varRefreshCmd": "print(var_dic_list())"
    },
    "r": {
     "delete_cmd_postfix": ") ",
     "delete_cmd_prefix": "rm(",
     "library": "var_list.r",
     "varRefreshCmd": "cat(var_dic_list()) "
    }
   },
   "types_to_exclude": [
    "module",
    "function",
    "builtin_function_or_method",
    "instance",
    "_Feature"
   ],
   "window_display": false
  }
 },
 "nbformat": 4,
 "nbformat_minor": 2
}
